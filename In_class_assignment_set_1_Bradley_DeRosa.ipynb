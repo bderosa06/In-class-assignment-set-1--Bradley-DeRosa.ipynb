{
  "cells": [
    {
      "cell_type": "markdown",
      "metadata": {
        "id": "view-in-github",
        "colab_type": "text"
      },
      "source": [
        "<a href=\"https://colab.research.google.com/github/bderosa06/In-class-assignment-set-1--Bradley-DeRosa.ipynb/blob/main/In_class_assignment_set_1_Bradley_DeRosa.ipynb\" target=\"_parent\"><img src=\"https://colab.research.google.com/assets/colab-badge.svg\" alt=\"Open In Colab\"/></a>"
      ]
    },
    {
      "cell_type": "code",
      "execution_count": null,
      "metadata": {
        "colab": {
          "base_uri": "https://localhost:8080/"
        },
        "id": "A0io5ffbkLXn",
        "outputId": "e380b6c4-5fa6-4d56-f654-24ebc41609a2"
      },
      "outputs": [
        {
          "name": "stdout",
          "output_type": "stream",
          "text": [
            "244.92000000000002\n"
          ]
        }
      ],
      "source": [
        "#Shape Area Calculator\n",
        "pi = 3.14\n",
        "r = 3\n",
        "h = 10\n",
        "\n",
        "Area = 2*pi*r*r + 2*pi*r*h\n",
        "print(Area)"
      ]
    },
    {
      "cell_type": "code",
      "execution_count": null,
      "metadata": {
        "colab": {
          "background_save": true,
          "base_uri": "https://localhost:8080/"
        },
        "id": "70Pf0gqWsWhI",
        "outputId": "b1e5ae71-8184-4992-8790-d6f53c80a004"
      },
      "outputs": [
        {
          "name": "stdout",
          "output_type": "stream",
          "text": [
            "p1 wins\n"
          ]
        }
      ],
      "source": [
        "#Rock-paper-scissors\n",
        "import random\n",
        "play_the_game = input('Do you want to play? Yes or no: ')\n",
        "while play_the_game == 'Yes' :\n",
        "\n",
        "  p1 = input(\"choose rock, paper, scissors: \")\n",
        "  p2 = random.choice(['rock','paper','scissors'])\n",
        "\n",
        "  if p1==p2:\n",
        "    print('Draw')\n",
        "\n",
        "  elif p1=='rock' and p2=='scissors':\n",
        "    print('p1 wins')\n",
        "\n",
        "  elif p1=='rock' and p2=='paper':\n",
        "    print('p2 wins')\n",
        "\n",
        "  elif p1=='paper' and p2=='rock':\n",
        "    print('p1 wins')\n",
        "\n",
        "  elif p1=='paper' and p2=='scissors':\n",
        "    print('p2 wins')\n",
        "\n",
        "  elif p1=='scissors' and p2=='rock':\n",
        "    print('p2 wins')\n",
        "\n",
        "  elif p1=='scissors' and p2=='paper':\n",
        "    print('p1 wins')\n",
        "\n",
        "  play_the_game == input('Do you want to play? Yes or no: ')\n",
        "\n"
      ]
    },
    {
      "cell_type": "code",
      "execution_count": null,
      "metadata": {
        "colab": {
          "base_uri": "https://localhost:8080/"
        },
        "id": "qmwAQo_X5ACk",
        "outputId": "d380c8a8-2d5b-4779-9b97-95b069693278"
      },
      "outputs": [
        {
          "name": "stdout",
          "output_type": "stream",
          "text": [
            "Number: 4\n",
            "Number: 5\n",
            "Operation (+, -, *, /, **): +\n",
            "9.0\n"
          ]
        }
      ],
      "source": [
        "#Numerical Calculator\n",
        "N1= float(input(\"Number: \"))\n",
        "N2= float(input(\"Number: \"))\n",
        "Symbol = input('Operation (+, -, *, /, **): ')\n",
        "\n",
        "if(Symbol=='+'):\n",
        "  print(N1+N2)\n",
        "\n",
        "elif(Symbol=='-'):\n",
        "  print(N1-N2)\n",
        "\n",
        "elif(Symbol=='*'):\n",
        "  print(N1*N2)\n",
        "\n",
        "elif(Symbol=='/'):\n",
        "  print(N1/N2)\n",
        "\n",
        "elif(Symbol=='**'):\n",
        "  print(N1**N2)"
      ]
    },
    {
      "cell_type": "code",
      "source": [
        "#Parking Garage\n",
        "flat_rate =5\n",
        "hourly_rate =2.5\n",
        "\n",
        "for h in range (1,9):\n",
        "  charge = flat_rate + hourly_rate*h\n",
        "  if charge < 10:\n",
        "    charge = 10\n",
        "  elif charge > 20:\n",
        "    charge = 20\n",
        "  print(h,charge)\n",
        "\n"
      ],
      "metadata": {
        "colab": {
          "base_uri": "https://localhost:8080/"
        },
        "id": "boCwW_Oc84KZ",
        "outputId": "95259bc6-2fae-46d8-bc10-44d9c8983441"
      },
      "execution_count": null,
      "outputs": [
        {
          "output_type": "stream",
          "name": "stdout",
          "text": [
            "1 10\n",
            "2 10.0\n",
            "3 12.5\n",
            "4 15.0\n",
            "5 17.5\n",
            "6 20.0\n",
            "7 20\n",
            "8 20\n"
          ]
        }
      ]
    },
    {
      "cell_type": "code",
      "source": [
        "#Movie Theater\n",
        "ticket_price= 10\n",
        "fixed_cost= 200\n",
        "fixedattendees= 20\n",
        "\n",
        "for ad in range(0,225,25):\n",
        "  additionalattendees = round (2 * ad ** 0.5)\n",
        "  profit = (fixedattendees + additionalattendees)*ticket_price - ad - fixed_cost\n",
        "  print(ad,profit)"
      ],
      "metadata": {
        "colab": {
          "base_uri": "https://localhost:8080/"
        },
        "id": "Ygdzs1NFDNl0",
        "outputId": "291f785c-f606-4154-8d82-c6828300a543"
      },
      "execution_count": null,
      "outputs": [
        {
          "output_type": "stream",
          "name": "stdout",
          "text": [
            "0 0\n",
            "25 75\n",
            "50 90\n",
            "75 95\n",
            "100 100\n",
            "125 95\n",
            "150 90\n",
            "175 85\n",
            "200 80\n"
          ]
        }
      ]
    },
    {
      "cell_type": "code",
      "source": [
        "#Months2Numbers Dictionary\n",
        "months = {}\n",
        "\n",
        "names = [\"Jan\", \"Feb\", \"Mar\", \"Apr\", \"May\", \"Jun\", \"Jul\", \"Aug\", \"Sep\", \"Oct\", \"Nov\", \"Dec\"]\n",
        "numbers = [1, 2, 3, 4, 5, 6, 7, 8, 9, 10, 11, 12]\n",
        "\n",
        "for idx in range(len(numbers)):\n",
        " months[numbers[idx]] = names[idx]\n",
        "months"
      ],
      "metadata": {
        "colab": {
          "base_uri": "https://localhost:8080/"
        },
        "id": "CLZohThH44CV",
        "outputId": "b90213e0-8be6-42da-e8f2-0b733b9c8a7a"
      },
      "execution_count": null,
      "outputs": [
        {
          "output_type": "execute_result",
          "data": {
            "text/plain": [
              "{1: 'Jan',\n",
              " 2: 'Feb',\n",
              " 3: 'Mar',\n",
              " 4: 'Apr',\n",
              " 5: 'May',\n",
              " 6: 'Jun',\n",
              " 7: 'Jul',\n",
              " 8: 'Aug',\n",
              " 9: 'Sep',\n",
              " 10: 'Oct',\n",
              " 11: 'Nov',\n",
              " 12: 'Dec'}"
            ]
          },
          "metadata": {},
          "execution_count": 14
        }
      ]
    },
    {
      "cell_type": "code",
      "source": [
        "#Fee Calculation and Display\n",
        "def calcFee(hours, decimals=2):\n",
        "    fee = 5 + hours * 2.5\n",
        "    fee = round(fee, decimals)\n",
        "    return fee\n",
        "\n",
        "def displayFee(fee):\n",
        "    print(fee)\n",
        "\n",
        "h = int(input('Enter number of hours: '))\n",
        "fee = calcFee(h)\n",
        "displayFee(fee)"
      ],
      "metadata": {
        "colab": {
          "base_uri": "https://localhost:8080/"
        },
        "id": "p36PcdXVCTPj",
        "outputId": "7046efa5-ce19-4095-c29d-8a0637fcaadc"
      },
      "execution_count": null,
      "outputs": [
        {
          "output_type": "stream",
          "name": "stdout",
          "text": [
            "Enter number of hours: 5\n",
            "17.5\n"
          ]
        }
      ]
    },
    {
      "cell_type": "code",
      "source": [
        "#Reverse Function (recursion)\n",
        "def reverse(s):\n",
        "  if len(s) == 1 :\n",
        "    return s\n",
        "  else:\n",
        "    return s[-1] + reverse(s[:-1])\n",
        "\n",
        "reverse('hello')\n"
      ],
      "metadata": {
        "colab": {
          "base_uri": "https://localhost:8080/",
          "height": 35
        },
        "id": "VgEF2S3IHONX",
        "outputId": "47699e75-82ac-4f09-890f-46fa89be38dd"
      },
      "execution_count": null,
      "outputs": [
        {
          "output_type": "execute_result",
          "data": {
            "text/plain": [
              "'olleh'"
            ],
            "application/vnd.google.colaboratory.intrinsic+json": {
              "type": "string"
            }
          },
          "metadata": {},
          "execution_count": 5
        }
      ]
    },
    {
      "cell_type": "code",
      "source": [
        "#Student Class\n",
        "class Student:\n",
        "  def __init__(self, name, number):\n",
        "    self.__name = name\n",
        "    self.number = number\n",
        "\n",
        "  def set_name(self, newName):\n",
        "    self.__name = newName\n",
        "\n",
        "  def get_name(self):\n",
        "    return self.__name\n",
        "\n",
        "  def __repr__(self):\n",
        "    return f'Name: {self.__name}'"
      ],
      "metadata": {
        "id": "vmM5OcJHYwd2"
      },
      "execution_count": null,
      "outputs": []
    },
    {
      "cell_type": "code",
      "source": [
        "s1 = Student(\"James Bond\", \"007\")\n",
        "s2 = Student(\"Clark Kent\", \"333\")"
      ],
      "metadata": {
        "id": "DtGefJARanHb"
      },
      "execution_count": null,
      "outputs": []
    },
    {
      "cell_type": "code",
      "source": [
        "s2.get_name()"
      ],
      "metadata": {
        "colab": {
          "base_uri": "https://localhost:8080/",
          "height": 35
        },
        "id": "kRindAVoq0In",
        "outputId": "9f1cfd4b-53ec-453a-e416-d379c50b5050"
      },
      "execution_count": null,
      "outputs": [
        {
          "output_type": "execute_result",
          "data": {
            "text/plain": [
              "'Clark Kent'"
            ],
            "application/vnd.google.colaboratory.intrinsic+json": {
              "type": "string"
            }
          },
          "metadata": {},
          "execution_count": 13
        }
      ]
    },
    {
      "cell_type": "code",
      "source": [
        "class Student:\n",
        "  def __init__(self, name, number):\n",
        "    self.__name = name\n",
        "    self.number = number\n",
        "    self.__courses = []\n",
        "\n",
        "  def enroll (self,newCourse):\n",
        "    if newCourse not in self.__courses:\n",
        "      self.__courses.append(newCourse)\n",
        "      print(f'Successfully enrolled in {newCourse}')\n",
        "    else:\n",
        "      print(f'You have already enrolled in {newCourse}')\n",
        "\n",
        "  def get_courses(self):\n",
        "    return self.__courses"
      ],
      "metadata": {
        "id": "QGtM6h3Rs9Hi"
      },
      "execution_count": null,
      "outputs": []
    },
    {
      "cell_type": "code",
      "source": [
        "s = Student('Bob', '12345')"
      ],
      "metadata": {
        "id": "68tQB_9Ixn1N"
      },
      "execution_count": null,
      "outputs": []
    },
    {
      "cell_type": "code",
      "source": [
        "s.enroll('ABC789')"
      ],
      "metadata": {
        "colab": {
          "base_uri": "https://localhost:8080/"
        },
        "id": "7NYKZ-EOxsR3",
        "outputId": "4cb50e02-06f9-4846-e722-7fb00105eb12"
      },
      "execution_count": null,
      "outputs": [
        {
          "output_type": "stream",
          "name": "stdout",
          "text": [
            "You have already enrolled in ABC789\n"
          ]
        }
      ]
    }
  ],
  "metadata": {
    "colab": {
      "provenance": [],
      "authorship_tag": "ABX9TyOuCeoTZW+R4jP8VyRGdB67",
      "include_colab_link": true
    },
    "kernelspec": {
      "display_name": "Python 3",
      "name": "python3"
    },
    "language_info": {
      "name": "python"
    }
  },
  "nbformat": 4,
  "nbformat_minor": 0
}